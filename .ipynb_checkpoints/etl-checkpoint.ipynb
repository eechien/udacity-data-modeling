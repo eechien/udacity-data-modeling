{
 "cells": [
  {
   "cell_type": "markdown",
   "metadata": {
    "editable": true
   },
   "source": [
    "# ETL Processes\n",
    "Use this notebook to develop the ETL process for each of your tables before completing the `etl.py` file to load the whole datasets."
   ]
  },
  {
   "cell_type": "code",
   "execution_count": 1,
   "metadata": {
    "editable": true
   },
   "outputs": [],
   "source": [
    "import os\n",
    "import glob\n",
    "import psycopg2\n",
    "import pandas as pd\n",
    "from sql_queries import *"
   ]
  },
  {
   "cell_type": "code",
   "execution_count": 2,
   "metadata": {
    "editable": true
   },
   "outputs": [],
   "source": [
    "conn = psycopg2.connect(\"host=127.0.0.1 dbname=sparkifydb user=student password=student\")\n",
    "cur = conn.cursor()"
   ]
  },
  {
   "cell_type": "code",
   "execution_count": 3,
   "metadata": {
    "editable": true
   },
   "outputs": [],
   "source": [
    "def get_files(filepath):\n",
    "    all_files = []\n",
    "    for root, dirs, files in os.walk(filepath):\n",
    "        files = glob.glob(os.path.join(root,'*.json'))\n",
    "        for f in files :\n",
    "            all_files.append(os.path.abspath(f))\n",
    "    \n",
    "    return all_files"
   ]
  },
  {
   "cell_type": "markdown",
   "metadata": {
    "editable": true
   },
   "source": [
    "# Process `song_data`\n",
    "In this first part, you'll perform ETL on the first dataset, `song_data`, to create the `songs` and `artists` dimensional tables.\n",
    "\n",
    "Let's perform ETL on a single song file and load a single record into each table to start.\n",
    "- Use the `get_files` function provided above to get a list of all song JSON files in `data/song_data`\n",
    "- Select the first song in this list\n",
    "- Read the song file and view the data"
   ]
  },
  {
   "cell_type": "code",
   "execution_count": null,
   "metadata": {
    "editable": true
   },
   "outputs": [],
   "source": [
    "song_files = get_files(\"data/song_data\")"
   ]
  },
  {
   "cell_type": "code",
   "execution_count": null,
   "metadata": {
    "editable": true
   },
   "outputs": [],
   "source": [
    "filepath = song_files[0]"
   ]
  },
  {
   "cell_type": "code",
   "execution_count": null,
   "metadata": {
    "editable": true
   },
   "outputs": [],
   "source": [
    "df = pd.read_json(filepath, lines=True).replace({pd.np.nan: None})\n",
    "df.head()"
   ]
  },
  {
   "cell_type": "markdown",
   "metadata": {
    "editable": true
   },
   "source": [
    "## #1: `songs` Table\n",
    "#### Extract Data for Songs Table\n",
    "- Select columns for song ID, title, artist ID, year, and duration\n",
    "- Use `df.values` to select just the values from the dataframe\n",
    "- Index to select the first (only) record in the dataframe\n",
    "- Convert the array to a list and set it to `song_data`"
   ]
  },
  {
   "cell_type": "code",
   "execution_count": null,
   "metadata": {
    "editable": true
   },
   "outputs": [],
   "source": [
    "song_data = df[[\"song_id\", \"title\", \"artist_id\", \"year\", \"duration\"]]\n",
    "song_data = song_data.values\n",
    "song_data = song_data[0]\n",
    "song_data = song_data.tolist()\n",
    "song_data"
   ]
  },
  {
   "cell_type": "markdown",
   "metadata": {
    "editable": true
   },
   "source": [
    "#### Insert Record into Song Table\n",
    "Implement the `song_table_insert` query in `sql_queries.py` and run the cell below to insert a record for this song into the `songs` table. Remember to run `create_tables.py` before running the cell below to ensure you've created/resetted the `songs` table in the sparkify database."
   ]
  },
  {
   "cell_type": "code",
   "execution_count": null,
   "metadata": {
    "editable": true
   },
   "outputs": [],
   "source": [
    "cur.execute(song_table_insert, song_data)\n",
    "conn.commit()"
   ]
  },
  {
   "cell_type": "markdown",
   "metadata": {
    "editable": true
   },
   "source": [
    "Run `test.ipynb` to see if you've successfully added a record to this table."
   ]
  },
  {
   "cell_type": "markdown",
   "metadata": {
    "editable": true
   },
   "source": [
    "## #2: `artists` Table\n",
    "#### Extract Data for Artists Table\n",
    "- Select columns for artist ID, name, location, latitude, and longitude\n",
    "- Use `df.values` to select just the values from the dataframe\n",
    "- Index to select the first (only) record in the dataframe\n",
    "- Convert the array to a list and set it to `artist_data`"
   ]
  },
  {
   "cell_type": "code",
   "execution_count": null,
   "metadata": {
    "editable": true
   },
   "outputs": [],
   "source": [
    "artist_data = df[[\"artist_id\", \"artist_name\", \"artist_location\", \"artist_latitude\", \"artist_longitude\"]]\n",
    "artist_data = artist_data.values[0].tolist()\n",
    "artist_data"
   ]
  },
  {
   "cell_type": "markdown",
   "metadata": {
    "editable": true
   },
   "source": [
    "#### Insert Record into Artist Table\n",
    "Implement the `artist_table_insert` query in `sql_queries.py` and run the cell below to insert a record for this song's artist into the `artists` table. Remember to run `create_tables.py` before running the cell below to ensure you've created/resetted the `artists` table in the sparkify database."
   ]
  },
  {
   "cell_type": "code",
   "execution_count": null,
   "metadata": {
    "editable": true
   },
   "outputs": [],
   "source": [
    "cur.execute(artist_table_insert, artist_data)\n",
    "conn.commit()"
   ]
  },
  {
   "cell_type": "markdown",
   "metadata": {
    "editable": true
   },
   "source": [
    "Run `test.ipynb` to see if you've successfully added a record to this table."
   ]
  },
  {
   "cell_type": "markdown",
   "metadata": {
    "editable": true
   },
   "source": [
    "# Process `log_data`\n",
    "In this part, you'll perform ETL on the second dataset, `log_data`, to create the `time` and `users` dimensional tables, as well as the `songplays` fact table.\n",
    "\n",
    "Let's perform ETL on a single log file and load a single record into each table.\n",
    "- Use the `get_files` function provided above to get a list of all log JSON files in `data/log_data`\n",
    "- Select the first log file in this list\n",
    "- Read the log file and view the data"
   ]
  },
  {
   "cell_type": "code",
   "execution_count": 4,
   "metadata": {
    "editable": true
   },
   "outputs": [],
   "source": [
    "log_files = get_files(\"data/log_data\")"
   ]
  },
  {
   "cell_type": "code",
   "execution_count": 5,
   "metadata": {
    "editable": true
   },
   "outputs": [],
   "source": [
    "filepath = log_files[0]"
   ]
  },
  {
   "cell_type": "code",
   "execution_count": 6,
   "metadata": {
    "editable": true
   },
   "outputs": [
    {
     "data": {
      "text/html": [
       "<div>\n",
       "<style scoped>\n",
       "    .dataframe tbody tr th:only-of-type {\n",
       "        vertical-align: middle;\n",
       "    }\n",
       "\n",
       "    .dataframe tbody tr th {\n",
       "        vertical-align: top;\n",
       "    }\n",
       "\n",
       "    .dataframe thead th {\n",
       "        text-align: right;\n",
       "    }\n",
       "</style>\n",
       "<table border=\"1\" class=\"dataframe\">\n",
       "  <thead>\n",
       "    <tr style=\"text-align: right;\">\n",
       "      <th></th>\n",
       "      <th>artist</th>\n",
       "      <th>auth</th>\n",
       "      <th>firstName</th>\n",
       "      <th>gender</th>\n",
       "      <th>itemInSession</th>\n",
       "      <th>lastName</th>\n",
       "      <th>length</th>\n",
       "      <th>level</th>\n",
       "      <th>location</th>\n",
       "      <th>method</th>\n",
       "      <th>page</th>\n",
       "      <th>registration</th>\n",
       "      <th>sessionId</th>\n",
       "      <th>song</th>\n",
       "      <th>status</th>\n",
       "      <th>ts</th>\n",
       "      <th>userAgent</th>\n",
       "      <th>userId</th>\n",
       "    </tr>\n",
       "  </thead>\n",
       "  <tbody>\n",
       "    <tr>\n",
       "      <th>0</th>\n",
       "      <td>Stephen Lynch</td>\n",
       "      <td>Logged In</td>\n",
       "      <td>Jayden</td>\n",
       "      <td>M</td>\n",
       "      <td>0</td>\n",
       "      <td>Bell</td>\n",
       "      <td>182.857</td>\n",
       "      <td>free</td>\n",
       "      <td>Dallas-Fort Worth-Arlington, TX</td>\n",
       "      <td>PUT</td>\n",
       "      <td>NextSong</td>\n",
       "      <td>1.54099e+12</td>\n",
       "      <td>829</td>\n",
       "      <td>Jim Henson's Dead</td>\n",
       "      <td>200</td>\n",
       "      <td>1543537327796</td>\n",
       "      <td>Mozilla/5.0 (compatible; MSIE 10.0; Windows NT...</td>\n",
       "      <td>91</td>\n",
       "    </tr>\n",
       "    <tr>\n",
       "      <th>1</th>\n",
       "      <td>Manowar</td>\n",
       "      <td>Logged In</td>\n",
       "      <td>Jacob</td>\n",
       "      <td>M</td>\n",
       "      <td>0</td>\n",
       "      <td>Klein</td>\n",
       "      <td>247.562</td>\n",
       "      <td>paid</td>\n",
       "      <td>Tampa-St. Petersburg-Clearwater, FL</td>\n",
       "      <td>PUT</td>\n",
       "      <td>NextSong</td>\n",
       "      <td>1.54056e+12</td>\n",
       "      <td>1049</td>\n",
       "      <td>Shell Shock</td>\n",
       "      <td>200</td>\n",
       "      <td>1543540121796</td>\n",
       "      <td>\"Mozilla/5.0 (Macintosh; Intel Mac OS X 10_9_4...</td>\n",
       "      <td>73</td>\n",
       "    </tr>\n",
       "    <tr>\n",
       "      <th>2</th>\n",
       "      <td>Morcheeba</td>\n",
       "      <td>Logged In</td>\n",
       "      <td>Jacob</td>\n",
       "      <td>M</td>\n",
       "      <td>1</td>\n",
       "      <td>Klein</td>\n",
       "      <td>257.41</td>\n",
       "      <td>paid</td>\n",
       "      <td>Tampa-St. Petersburg-Clearwater, FL</td>\n",
       "      <td>PUT</td>\n",
       "      <td>NextSong</td>\n",
       "      <td>1.54056e+12</td>\n",
       "      <td>1049</td>\n",
       "      <td>Women Lose Weight (Feat: Slick Rick)</td>\n",
       "      <td>200</td>\n",
       "      <td>1543540368796</td>\n",
       "      <td>\"Mozilla/5.0 (Macintosh; Intel Mac OS X 10_9_4...</td>\n",
       "      <td>73</td>\n",
       "    </tr>\n",
       "    <tr>\n",
       "      <th>3</th>\n",
       "      <td>Maroon 5</td>\n",
       "      <td>Logged In</td>\n",
       "      <td>Jacob</td>\n",
       "      <td>M</td>\n",
       "      <td>2</td>\n",
       "      <td>Klein</td>\n",
       "      <td>231.235</td>\n",
       "      <td>paid</td>\n",
       "      <td>Tampa-St. Petersburg-Clearwater, FL</td>\n",
       "      <td>PUT</td>\n",
       "      <td>NextSong</td>\n",
       "      <td>1.54056e+12</td>\n",
       "      <td>1049</td>\n",
       "      <td>Won't Go Home Without You</td>\n",
       "      <td>200</td>\n",
       "      <td>1543540625796</td>\n",
       "      <td>\"Mozilla/5.0 (Macintosh; Intel Mac OS X 10_9_4...</td>\n",
       "      <td>73</td>\n",
       "    </tr>\n",
       "    <tr>\n",
       "      <th>4</th>\n",
       "      <td>Train</td>\n",
       "      <td>Logged In</td>\n",
       "      <td>Jacob</td>\n",
       "      <td>M</td>\n",
       "      <td>3</td>\n",
       "      <td>Klein</td>\n",
       "      <td>216.764</td>\n",
       "      <td>paid</td>\n",
       "      <td>Tampa-St. Petersburg-Clearwater, FL</td>\n",
       "      <td>PUT</td>\n",
       "      <td>NextSong</td>\n",
       "      <td>1.54056e+12</td>\n",
       "      <td>1049</td>\n",
       "      <td>Hey_ Soul Sister</td>\n",
       "      <td>200</td>\n",
       "      <td>1543540856796</td>\n",
       "      <td>\"Mozilla/5.0 (Macintosh; Intel Mac OS X 10_9_4...</td>\n",
       "      <td>73</td>\n",
       "    </tr>\n",
       "  </tbody>\n",
       "</table>\n",
       "</div>"
      ],
      "text/plain": [
       "          artist       auth firstName gender  itemInSession lastName   length  \\\n",
       "0  Stephen Lynch  Logged In    Jayden      M              0     Bell  182.857   \n",
       "1        Manowar  Logged In     Jacob      M              0    Klein  247.562   \n",
       "2      Morcheeba  Logged In     Jacob      M              1    Klein   257.41   \n",
       "3       Maroon 5  Logged In     Jacob      M              2    Klein  231.235   \n",
       "4          Train  Logged In     Jacob      M              3    Klein  216.764   \n",
       "\n",
       "  level                             location method      page registration  \\\n",
       "0  free      Dallas-Fort Worth-Arlington, TX    PUT  NextSong  1.54099e+12   \n",
       "1  paid  Tampa-St. Petersburg-Clearwater, FL    PUT  NextSong  1.54056e+12   \n",
       "2  paid  Tampa-St. Petersburg-Clearwater, FL    PUT  NextSong  1.54056e+12   \n",
       "3  paid  Tampa-St. Petersburg-Clearwater, FL    PUT  NextSong  1.54056e+12   \n",
       "4  paid  Tampa-St. Petersburg-Clearwater, FL    PUT  NextSong  1.54056e+12   \n",
       "\n",
       "   sessionId                                  song  status             ts  \\\n",
       "0        829                     Jim Henson's Dead     200  1543537327796   \n",
       "1       1049                           Shell Shock     200  1543540121796   \n",
       "2       1049  Women Lose Weight (Feat: Slick Rick)     200  1543540368796   \n",
       "3       1049             Won't Go Home Without You     200  1543540625796   \n",
       "4       1049                      Hey_ Soul Sister     200  1543540856796   \n",
       "\n",
       "                                           userAgent userId  \n",
       "0  Mozilla/5.0 (compatible; MSIE 10.0; Windows NT...     91  \n",
       "1  \"Mozilla/5.0 (Macintosh; Intel Mac OS X 10_9_4...     73  \n",
       "2  \"Mozilla/5.0 (Macintosh; Intel Mac OS X 10_9_4...     73  \n",
       "3  \"Mozilla/5.0 (Macintosh; Intel Mac OS X 10_9_4...     73  \n",
       "4  \"Mozilla/5.0 (Macintosh; Intel Mac OS X 10_9_4...     73  "
      ]
     },
     "execution_count": 6,
     "metadata": {},
     "output_type": "execute_result"
    }
   ],
   "source": [
    "df = pd.read_json(filepath, lines=True).replace({pd.np.nan: None})\n",
    "df.head()"
   ]
  },
  {
   "cell_type": "markdown",
   "metadata": {
    "editable": true
   },
   "source": [
    "## #3: `time` Table\n",
    "#### Extract Data for Time Table\n",
    "- Filter records by `NextSong` action\n",
    "- Convert the `ts` timestamp column to datetime\n",
    "  - Hint: the current timestamp is in milliseconds\n",
    "- Extract the timestamp, hour, day, week of year, month, year, and weekday from the `ts` column and set `time_data` to a list containing these values in order\n",
    "  - Hint: use pandas' [`dt` attribute](https://pandas.pydata.org/pandas-docs/stable/reference/api/pandas.Series.dt.html) to access easily datetimelike properties.\n",
    "- Specify labels for these columns and set to `column_labels`\n",
    "- Create a dataframe, `time_df,` containing the time data for this file by combining `column_labels` and `time_data` into a dictionary and converting this into a dataframe"
   ]
  },
  {
   "cell_type": "code",
   "execution_count": 7,
   "metadata": {
    "editable": true
   },
   "outputs": [
    {
     "data": {
      "text/html": [
       "<div>\n",
       "<style scoped>\n",
       "    .dataframe tbody tr th:only-of-type {\n",
       "        vertical-align: middle;\n",
       "    }\n",
       "\n",
       "    .dataframe tbody tr th {\n",
       "        vertical-align: top;\n",
       "    }\n",
       "\n",
       "    .dataframe thead th {\n",
       "        text-align: right;\n",
       "    }\n",
       "</style>\n",
       "<table border=\"1\" class=\"dataframe\">\n",
       "  <thead>\n",
       "    <tr style=\"text-align: right;\">\n",
       "      <th></th>\n",
       "      <th>artist</th>\n",
       "      <th>auth</th>\n",
       "      <th>firstName</th>\n",
       "      <th>gender</th>\n",
       "      <th>itemInSession</th>\n",
       "      <th>lastName</th>\n",
       "      <th>length</th>\n",
       "      <th>level</th>\n",
       "      <th>location</th>\n",
       "      <th>method</th>\n",
       "      <th>page</th>\n",
       "      <th>registration</th>\n",
       "      <th>sessionId</th>\n",
       "      <th>song</th>\n",
       "      <th>status</th>\n",
       "      <th>ts</th>\n",
       "      <th>userAgent</th>\n",
       "      <th>userId</th>\n",
       "    </tr>\n",
       "  </thead>\n",
       "  <tbody>\n",
       "    <tr>\n",
       "      <th>0</th>\n",
       "      <td>Stephen Lynch</td>\n",
       "      <td>Logged In</td>\n",
       "      <td>Jayden</td>\n",
       "      <td>M</td>\n",
       "      <td>0</td>\n",
       "      <td>Bell</td>\n",
       "      <td>182.857</td>\n",
       "      <td>free</td>\n",
       "      <td>Dallas-Fort Worth-Arlington, TX</td>\n",
       "      <td>PUT</td>\n",
       "      <td>NextSong</td>\n",
       "      <td>1.54099e+12</td>\n",
       "      <td>829</td>\n",
       "      <td>Jim Henson's Dead</td>\n",
       "      <td>200</td>\n",
       "      <td>1543537327796</td>\n",
       "      <td>Mozilla/5.0 (compatible; MSIE 10.0; Windows NT...</td>\n",
       "      <td>91</td>\n",
       "    </tr>\n",
       "    <tr>\n",
       "      <th>1</th>\n",
       "      <td>Manowar</td>\n",
       "      <td>Logged In</td>\n",
       "      <td>Jacob</td>\n",
       "      <td>M</td>\n",
       "      <td>0</td>\n",
       "      <td>Klein</td>\n",
       "      <td>247.562</td>\n",
       "      <td>paid</td>\n",
       "      <td>Tampa-St. Petersburg-Clearwater, FL</td>\n",
       "      <td>PUT</td>\n",
       "      <td>NextSong</td>\n",
       "      <td>1.54056e+12</td>\n",
       "      <td>1049</td>\n",
       "      <td>Shell Shock</td>\n",
       "      <td>200</td>\n",
       "      <td>1543540121796</td>\n",
       "      <td>\"Mozilla/5.0 (Macintosh; Intel Mac OS X 10_9_4...</td>\n",
       "      <td>73</td>\n",
       "    </tr>\n",
       "    <tr>\n",
       "      <th>2</th>\n",
       "      <td>Morcheeba</td>\n",
       "      <td>Logged In</td>\n",
       "      <td>Jacob</td>\n",
       "      <td>M</td>\n",
       "      <td>1</td>\n",
       "      <td>Klein</td>\n",
       "      <td>257.41</td>\n",
       "      <td>paid</td>\n",
       "      <td>Tampa-St. Petersburg-Clearwater, FL</td>\n",
       "      <td>PUT</td>\n",
       "      <td>NextSong</td>\n",
       "      <td>1.54056e+12</td>\n",
       "      <td>1049</td>\n",
       "      <td>Women Lose Weight (Feat: Slick Rick)</td>\n",
       "      <td>200</td>\n",
       "      <td>1543540368796</td>\n",
       "      <td>\"Mozilla/5.0 (Macintosh; Intel Mac OS X 10_9_4...</td>\n",
       "      <td>73</td>\n",
       "    </tr>\n",
       "    <tr>\n",
       "      <th>3</th>\n",
       "      <td>Maroon 5</td>\n",
       "      <td>Logged In</td>\n",
       "      <td>Jacob</td>\n",
       "      <td>M</td>\n",
       "      <td>2</td>\n",
       "      <td>Klein</td>\n",
       "      <td>231.235</td>\n",
       "      <td>paid</td>\n",
       "      <td>Tampa-St. Petersburg-Clearwater, FL</td>\n",
       "      <td>PUT</td>\n",
       "      <td>NextSong</td>\n",
       "      <td>1.54056e+12</td>\n",
       "      <td>1049</td>\n",
       "      <td>Won't Go Home Without You</td>\n",
       "      <td>200</td>\n",
       "      <td>1543540625796</td>\n",
       "      <td>\"Mozilla/5.0 (Macintosh; Intel Mac OS X 10_9_4...</td>\n",
       "      <td>73</td>\n",
       "    </tr>\n",
       "    <tr>\n",
       "      <th>4</th>\n",
       "      <td>Train</td>\n",
       "      <td>Logged In</td>\n",
       "      <td>Jacob</td>\n",
       "      <td>M</td>\n",
       "      <td>3</td>\n",
       "      <td>Klein</td>\n",
       "      <td>216.764</td>\n",
       "      <td>paid</td>\n",
       "      <td>Tampa-St. Petersburg-Clearwater, FL</td>\n",
       "      <td>PUT</td>\n",
       "      <td>NextSong</td>\n",
       "      <td>1.54056e+12</td>\n",
       "      <td>1049</td>\n",
       "      <td>Hey_ Soul Sister</td>\n",
       "      <td>200</td>\n",
       "      <td>1543540856796</td>\n",
       "      <td>\"Mozilla/5.0 (Macintosh; Intel Mac OS X 10_9_4...</td>\n",
       "      <td>73</td>\n",
       "    </tr>\n",
       "  </tbody>\n",
       "</table>\n",
       "</div>"
      ],
      "text/plain": [
       "          artist       auth firstName gender  itemInSession lastName   length  \\\n",
       "0  Stephen Lynch  Logged In    Jayden      M              0     Bell  182.857   \n",
       "1        Manowar  Logged In     Jacob      M              0    Klein  247.562   \n",
       "2      Morcheeba  Logged In     Jacob      M              1    Klein   257.41   \n",
       "3       Maroon 5  Logged In     Jacob      M              2    Klein  231.235   \n",
       "4          Train  Logged In     Jacob      M              3    Klein  216.764   \n",
       "\n",
       "  level                             location method      page registration  \\\n",
       "0  free      Dallas-Fort Worth-Arlington, TX    PUT  NextSong  1.54099e+12   \n",
       "1  paid  Tampa-St. Petersburg-Clearwater, FL    PUT  NextSong  1.54056e+12   \n",
       "2  paid  Tampa-St. Petersburg-Clearwater, FL    PUT  NextSong  1.54056e+12   \n",
       "3  paid  Tampa-St. Petersburg-Clearwater, FL    PUT  NextSong  1.54056e+12   \n",
       "4  paid  Tampa-St. Petersburg-Clearwater, FL    PUT  NextSong  1.54056e+12   \n",
       "\n",
       "   sessionId                                  song  status             ts  \\\n",
       "0        829                     Jim Henson's Dead     200  1543537327796   \n",
       "1       1049                           Shell Shock     200  1543540121796   \n",
       "2       1049  Women Lose Weight (Feat: Slick Rick)     200  1543540368796   \n",
       "3       1049             Won't Go Home Without You     200  1543540625796   \n",
       "4       1049                      Hey_ Soul Sister     200  1543540856796   \n",
       "\n",
       "                                           userAgent userId  \n",
       "0  Mozilla/5.0 (compatible; MSIE 10.0; Windows NT...     91  \n",
       "1  \"Mozilla/5.0 (Macintosh; Intel Mac OS X 10_9_4...     73  \n",
       "2  \"Mozilla/5.0 (Macintosh; Intel Mac OS X 10_9_4...     73  \n",
       "3  \"Mozilla/5.0 (Macintosh; Intel Mac OS X 10_9_4...     73  \n",
       "4  \"Mozilla/5.0 (Macintosh; Intel Mac OS X 10_9_4...     73  "
      ]
     },
     "execution_count": 7,
     "metadata": {},
     "output_type": "execute_result"
    }
   ],
   "source": [
    "df = df[df[\"page\"] == \"NextSong\"]\n",
    "df.head()"
   ]
  },
  {
   "cell_type": "code",
   "execution_count": null,
   "metadata": {
    "editable": true
   },
   "outputs": [],
   "source": [
    "t = pd.to_datetime(df[\"ts\"])\n",
    "t.head()"
   ]
  },
  {
   "cell_type": "code",
   "execution_count": null,
   "metadata": {
    "editable": true
   },
   "outputs": [],
   "source": [
    "time_data = {\"ts\": t, \"hour\": t.dt.hour, \"day\": t.dt.day, \"week\": t.dt.week, \"month\": t.dt.month, \"year\": t.dt.year, \"weekday\": t.dt.weekday}"
   ]
  },
  {
   "cell_type": "code",
   "execution_count": null,
   "metadata": {
    "editable": true
   },
   "outputs": [],
   "source": [
    "time_df = pd.DataFrame(data=time_data)\n",
    "time_df.head()"
   ]
  },
  {
   "cell_type": "markdown",
   "metadata": {
    "editable": true
   },
   "source": [
    "#### Insert Records into Time Table\n",
    "Implement the `time_table_insert` query in `sql_queries.py` and run the cell below to insert records for the timestamps in this log file into the `time` table. Remember to run `create_tables.py` before running the cell below to ensure you've created/resetted the `time` table in the sparkify database."
   ]
  },
  {
   "cell_type": "code",
   "execution_count": null,
   "metadata": {
    "editable": true
   },
   "outputs": [],
   "source": [
    "for i, row in time_df.iterrows():\n",
    "    cur.execute(time_table_insert, list(row))\n",
    "    conn.commit()"
   ]
  },
  {
   "cell_type": "markdown",
   "metadata": {
    "editable": true
   },
   "source": [
    "Run `test.ipynb` to see if you've successfully added records to this table."
   ]
  },
  {
   "cell_type": "markdown",
   "metadata": {
    "editable": true
   },
   "source": [
    "## #4: `users` Table\n",
    "#### Extract Data for Users Table\n",
    "- Select columns for user ID, first name, last name, gender and level and set to `user_df`"
   ]
  },
  {
   "cell_type": "code",
   "execution_count": null,
   "metadata": {
    "editable": true
   },
   "outputs": [],
   "source": [
    "user_df = df[[\"userId\", \"firstName\", \"lastName\", \"gender\", \"level\"]]\n",
    "user_df.head()"
   ]
  },
  {
   "cell_type": "markdown",
   "metadata": {
    "editable": true
   },
   "source": [
    "#### Insert Records into Users Table\n",
    "Implement the `user_table_insert` query in `sql_queries.py` and run the cell below to insert records for the users in this log file into the `users` table. Remember to run `create_tables.py` before running the cell below to ensure you've created/resetted the `users` table in the sparkify database."
   ]
  },
  {
   "cell_type": "code",
   "execution_count": null,
   "metadata": {
    "editable": true
   },
   "outputs": [],
   "source": [
    "for i, row in user_df.iterrows():\n",
    "    cur.execute(user_table_insert, row)\n",
    "    conn.commit()"
   ]
  },
  {
   "cell_type": "markdown",
   "metadata": {
    "editable": true
   },
   "source": [
    "Run `test.ipynb` to see if you've successfully added records to this table."
   ]
  },
  {
   "cell_type": "markdown",
   "metadata": {
    "editable": true
   },
   "source": [
    "## #5: `songplays` Table\n",
    "#### Extract Data and Songplays Table\n",
    "This one is a little more complicated since information from the songs table, artists table, and original log file are all needed for the `songplays` table. Since the log file does not specify an ID for either the song or the artist, you'll need to get the song ID and artist ID by querying the songs and artists tables to find matches based on song title, artist name, and song duration time.\n",
    "- Implement the `song_select` query in `sql_queries.py` to find the song ID and artist ID based on the title, artist name, and duration of a song.\n",
    "- Select the timestamp, user ID, level, song ID, artist ID, session ID, location, and user agent and set to `songplay_data`\n",
    "\n",
    "#### Insert Records into Songplays Table\n",
    "- Implement the `songplay_table_insert` query and run the cell below to insert records for the songplay actions in this log file into the `songplays` table. Remember to run `create_tables.py` before running the cell below to ensure you've created/resetted the `songplays` table in the sparkify database."
   ]
  },
  {
   "cell_type": "code",
   "execution_count": 11,
   "metadata": {
    "editable": true
   },
   "outputs": [
    {
     "name": "stdout",
     "output_type": "stream",
     "text": [
      "Jim Henson's Dead, Stephen Lynch\n",
      "Shell Shock, Manowar\n",
      "Women Lose Weight (Feat: Slick Rick), Morcheeba\n",
      "Won't Go Home Without You, Maroon 5\n",
      "Hey_ Soul Sister, Train\n",
      "I'm In Miami Bitch, LMFAO\n",
      "Sexy Bitch, DJ Dizzy\n",
      "The Cure & The Cause (Dennis Ferrer Remix), Fish Go Deep & Tracey K\n",
      "Staring At Me, M83\n",
      "The Second You Sleep, Saybia\n",
      "Wide Eyes, Local Natives\n",
      "La Resistance (Medley) (LP Version), South Park\n",
      "Restless, UNKLE Feat. Josh Homme\n",
      "Noc..., Justyna Steczkowska\n",
      "Like You, Evanescence\n",
      "God Put A Smile Upon Your Face, Coldplay\n",
      "Playboy, Hot Chip\n",
      "Every Time You Go, Ellie Goulding\n",
      "Natural Anthem (Album), Postal Service\n",
      "Taylor, Jack Johnson\n",
      "Naked As We Can, Iron And Wine\n",
      "Fantasy, The xx\n",
      "Epilogue, The Antlers\n",
      "Groovin', Fattburger\n",
      "Ain't No Way (You Won't Love Me), Chris Brown\n",
      "Rome, Phoenix\n",
      "Highway Through My Home, Jim Lauderdale/Ralph Stanley & The Clinch Mountain Boys\n",
      "143, Musiq\n",
      "Dreams-Come-True-Girl, Cass McCombs feat. Karen Black\n",
      "I Don't Feel Like Dancin', Scissor Sisters\n",
      "Right On Time (Album Version), O.A.R.\n",
      "Black Lines, 1 Mile North\n",
      "Uprising, Muse\n",
      "Man Makes The Zoo, USS (Ubiquitous Synergy Seeker)\n",
      "Blacks/Radio, The Psychedelic Furs\n",
      "Love Dealer (Featuring Justin Timberlake), EsmÃÂ©e Denters / Justin Timberlake\n",
      "ReprÃÂ©sente, Alliance Ethnik\n",
      "Hey_ Soul Sister, Train\n",
      "Up And Gone, Hoobastank\n",
      "Te Conoci, Ismael Serrano\n",
      "Bottle Pop, The Pussycat Dolls / Snoop Dogg\n",
      "My Love Will Follow You, Dierks Bentley\n",
      "Found Home, 59 Times the Pain\n",
      "My December, Linkin Park\n",
      "The Perfect Kiss, New Order\n",
      "You're Gonna Make Me Lonesome When You Go, Madeleine Peyroux\n",
      "Shortie Like Mine, Bow Wow feat. Chris Brown and JohntÃÂ¡ Austin\n",
      "Domination, Symphony X\n",
      "Inside My Love (Digitally Remastered 93), Minnie Riperton\n",
      "Structure, Custom Blue\n",
      "Killing In The Name, Rage Against The Machine\n",
      "Girl You Know It's True, Milli Vanilli\n",
      "Waterfall (Spirit Of The Rainforest Album Version), David Arkenstone\n",
      "Robot Soul (Radio Edit), Cosmo Vitelli\n",
      "Blindfold, Morcheeba\n",
      "I'm Yours (Album Version), Jason Mraz\n",
      "Say Hello, Deep Dish\n",
      "(I Just) Died In Your Arms, Cutting Crew\n",
      "Sweet Jane, The Velvet Underground\n",
      "Gears, Future Rock\n",
      "Seven Nation Army (Album Version), The White Stripes\n",
      "Fix You, Coldplay\n",
      "It Could Be Sweet, Portishead\n",
      "If This Was The Last Song, Thelma Houston\n",
      "Poppiholla, Chicane\n",
      "The Unforgiven III, Metallica\n",
      "Apresurate, Jennifer Lopez\n",
      "There Is, Box Car Racer\n",
      "Would That Make U Love Me, Robin Thicke\n",
      "Screaming Infidelities, Dashboard Confessional\n",
      "Big Idea, Radney Foster\n",
      "Bulletproof, La Roux\n",
      "The Tune, Wax Tailor\n",
      "Trani, Kings Of Leon\n",
      "Girl Money, Kix\n",
      "Chloe Dancer/Crown Of Thorns, Mother Love Bone\n",
      "The Bachelor and the Bride, The Decemberists\n",
      "M, Telefon Tel Aviv\n",
      "Nothin' On You [feat. Bruno Mars] (Album Version), B.o.B\n",
      "You Sent Me Flying / Cherry, Amy Winehouse\n",
      "Faithless, BEFORE THE DAWN\n",
      "You Only Live Once, The Strokes\n",
      "Tempting Time, Animals As Leaders\n",
      "Flowers In December, Mazzy Star\n",
      "Take It Back, Cream\n",
      "Behind Two Hills&A Swimming Pool, MÃÂºm\n",
      "My First Kiss (Feat. Ke$ha) [Album Version], 3OH!3\n",
      "Straight Outta Compton (Extended Mix) (Edit) (Explicit), N.W.A.\n",
      "Goin' Home, Dan Auerbach\n",
      "Sick, Lagwagon\n",
      "Fix You, Coldplay\n",
      "Half Of My Heart, John Mayer\n",
      "Revelry, Kings Of Leon\n",
      "World Coming Down, Ashbury Heights\n",
      "Fire, Scooter\n",
      "Shoot Me Down, Boy Kill Boy\n",
      "Juice (Know The Ledge), Eric B. & Rakim\n",
      "Hymne A L'Amour (Album Version), Josh Groban\n",
      "We're Only Gonna Die (Album Version), Bad Religion\n",
      "Next Hype, Tempa T\n",
      "Fireflies, Charttraxx Karaoke\n",
      "Hotel California, Eagles\n",
      "Little Wing, Eric Clapton\n",
      "Smothered (Album Version), Spineshank\n",
      "Try Your Best, Kaiser Chiefs\n",
      "Le Courage Des Oiseaux, Dominique A\n",
      "Lips Like Morphine (Album Version), Kill Hannah\n",
      "Kiedys zrozumiesz, I:gor\n",
      "Fallin' Apart, The All-American Rejects\n",
      "Don't Cry (Original), Guns N' Roses\n",
      "Transparency, White Denim\n",
      "La Suerte De Mi Vida, El Canto del Loco\n",
      "Redwing, Grinderswitch\n",
      "Starfish-On-The-Toast (2008 Digital Remaster), Donovan\n",
      "Illusions, As I Lay Dying\n",
      "Bright Lights (Remastered Version), matchbox twenty\n",
      "Field Goal, Kinky\n",
      "Nah!, Shania Twain\n",
      "By The Way, Hinder\n",
      "Keep On Running, The Spencer Davis Group\n",
      "I Dont Wanna Wait, SOJA\n",
      "Echonomix, Infected Mushroom\n",
      "One By One, Unkle Bob\n",
      "Sin Miedo a Nada (con Amaia Montero), Alex Ubago\n",
      "Bonnie Brae, The Twilight Singers\n",
      "War, Chikita Violenta\n",
      "Sad Lisa, Cat Stevens\n",
      "The House That Nat Built (Album Version), Kenny Garrett\n",
      "Jealous Minds Think Alike, You Me At Six\n",
      "My Mother's Eyes, Nellie Lutcher\n",
      "Make Her Say, Kid Cudi / Kanye West / Common\n",
      "Viaje Sin Rumbo (2004 Digital Remaster), Tiro De Gracia\n",
      "Dreamdancer, polarkreis 18\n",
      "The Queen of Nothing, + / - {Plus/Minus}\n",
      "Riot In Cell Block Number Nine, Dr Feelgood\n",
      "Sehr kosmisch, Harmonia\n",
      "Everything You Love (Album Version), Chimaira\n",
      "Someone Else's Life, Joshua Radin\n",
      "Godine prolaze, Bajaga & Instruktori\n",
      "Private Affair (Amended Album Version), The Virgins\n",
      "Ginko Biloba, SA Rawls / Still Flyin' / Still Flyin'\n",
      "Three Day Weekend, Grown Ups\n",
      "Meen Dah Elly Nseik, Nancy Ajram\n",
      "Boot On The Seat, The Donkeys\n",
      "FaFaFa (Radio Edit), Datarock\n",
      "Human After All, Daft Punk\n",
      "Somebody To Love, Justin Bieber\n",
      "Real Love, Beach House\n",
      "Subterranean Homesick Blues (Album Version), The Walkmen\n",
      "Can't Break Thru, Busted / Charlie Simpson / Mattie Jay / James Bourne\n",
      "Get Me Bodied, BeyoncÃÂ©\n",
      "Maybe, Sick Puppies\n",
      "Walk To The Water, U2\n",
      "I CAN'T GET STARTED, Ron Carter\n",
      "Breath After Breath, Duran Duran\n",
      "Head Over Heels, Tears For Fears\n",
      "Lonely As You, Foo Fighters\n",
      "One Year_ Six Months, Yellowcard\n",
      "Against The Wall, Big Tymers\n",
      "Knocking On Forbidden Doors, Enigma\n",
      "Hey Hey, Dennis Ferrer\n",
      "Somebody To Love, Justin Bieber\n",
      "Genom tunna tyger, Markus KrunegÃÂ¥rd\n",
      "The Little Things Give You Away [Live At Milton Keynes], Linkin Park\n",
      "Devil May Care, Jamie Cullum\n",
      "Tell Me I'm A Wreck, Every Avenue\n",
      "Constellations, Jack Johnson\n",
      "Vuelve, Shakira\n",
      "Give Me Anything, The Maine\n",
      "Worm Infested, Cannibal Corpse\n",
      "Headlights Look Like Diamonds, Arcade Fire\n",
      "Hands Up, Black Eyed Peas\n",
      "Sweet And Wild, Radney Foster\n",
      "Satellite Mind, Metric\n",
      "You're The One, Dwight Yoakam\n",
      "Did You Get My Message? (Live From Montalvo), Jason Mraz\n",
      "N A Whitemanzeyez, Kutt Calhoun\n",
      "Karma Police, Radiohead\n",
      "Puto, Molotov\n",
      "Killing Lies, The Strokes\n",
      "Hallelujah, Rufus Wainwright\n",
      "Ghosts 'n' Stuff (Original Instrumental Mix), Deadmau5\n",
      "You're The Voice, John Farnham\n",
      "Inside Of You, Infant Sorrow\n",
      "Clean Up Woman (Single/LP Version), Betty Wright\n",
      "Tranen Gelachen, Guus Meeuwis\n",
      "The Small Print, Muse\n",
      "A QuÃÂ© Niegas El Delirio (MalagueÃÂ±a) (Live), Estrella Morente\n",
      "It's My Life (Radio Edit), Dr. Alban\n",
      "Sit Down. Stand Up, Radiohead\n",
      "Purple Weed, Mondo Marcio\n",
      "Someone Else's Arms, Mae\n",
      "The Future Ain't What It Used To Be, Meat Loaf / Jennifer Hudson\n",
      "A-Punk (Album), Vampire Weekend\n",
      "Time To Pretend, MGMT\n",
      "Luna y Sol, Federico Aubele\n",
      "Touch My Horn, Jesse Rose\n",
      "Eternity, Orion\n",
      "Dyed in the Wool (Album Version), Circa Survive\n",
      "Wretchrospective (feat. Vis), Wretch 32_ Vis\n",
      "Simple, Simian Mobile Disco\n",
      "Riecht wie Teen Spirit (Smells Like Teen Spirit), ErdmÃÂ¶bel\n",
      "Adrenalin, Eisbrecher\n",
      "Bread & Water, Ryan Bingham\n",
      "VooDoo, Ashanti\n",
      "Horn Concerto No. 4 in E flat K495: II. Romance (Andante cantabile), Barry Tuckwell/Academy of St Martin-in-the-Fields/Sir Neville Marriner\n",
      "Frankie's Office, Clint Eastwood\n",
      "Fireflies, Charttraxx Karaoke\n",
      "Summer Breeze, Jason Mraz\n",
      "Love Shack, The B-52's\n",
      "Alexandra, Aventura\n",
      "Canada, Five Iron Frenzy\n",
      "Anthem For The Underdog, 12 Stones\n",
      "Revelry, Kings Of Leon\n",
      "Get Ready To Bounce Recall 08, Brooklyn Bounce\n",
      "The Good Fight, Dashboard Confessional\n",
      "Low Land Moan, Lonnie Johnson\n",
      "In, Leggo Beast\n",
      "Sway, The Pussycat Dolls\n",
      "I Miss You Now, Stereophonics\n",
      "Masculine Eclipse, The Beautiful South\n",
      "As If Set Afire, The Acacia Strain\n",
      "Underwater World, ATB\n",
      "Our Last Time, The Robert Cray Band\n",
      "T.N.T. For The Brain (112 Bpm) (Radio Edit), Enigma\n",
      "Tattered Banners And Bloody Flags, Amon Amarth\n",
      "The Great Escape (Album Version) (Explicit), We Are Scientists\n",
      "Lacreme napulitane, Roberto Murolo\n",
      "Autobiography, Ashlee Simpson\n",
      "The Ecstasy Of Gold, Metallica\n",
      "Kryptonite, 3 Doors Down\n",
      "No Fool (For Love), Hazell Dean\n",
      "Pray, Apocalyptica\n",
      "Bubble Toes, Jack Johnson\n",
      "Lotus, Cage The Elephant\n",
      "You Belong With Me, Taylor Swift\n",
      "Candy Rain, Soul For Real\n",
      "Firestarter, The Prodigy\n",
      "Addicted, Amy Winehouse\n",
      "The Evil That Men Do (1998 Digital Remaster), Iron Maiden\n",
      "All Around Me, David Crowder*Band\n",
      "Everyday, The Cinematic Orchestra\n",
      "Feel It, Three 6 Mafia vs. TiÃÂ«sto with Sean Kingston and Flo Rida\n",
      "Overload, Sugababes\n",
      "Hold You, Gyptian\n",
      "The Way She Moves, Zion / Akon\n",
      "I Want Your Love, Transvision Vamp\n",
      "Corrido de Boxeo, Ry Cooder\n",
      "When I Grow Up, The Pussycat Dolls\n",
      "Yellow, Coldplay\n",
      "She Likes (Bittersweet Love), Forever The Sickest Kids\n",
      "Believe That, Lil Wayne / Blaque / Mannie Fresh\n",
      "Through The Fire And Flames (Album Version), Dragonforce\n",
      "Lucky (Album Version), Jason Mraz & Colbie Caillat\n",
      "Is She Weird, Pixies\n",
      "Without Me, Eminem\n",
      "Cry No More, Buju Banton\n",
      "Lotus, Cage The Elephant\n",
      "Horn Concerto No. 4 in E flat K495: II. Romance (Andante cantabile), Barry Tuckwell/Academy of St Martin-in-the-Fields/Sir Neville Marriner\n",
      "Le Million, Ste Strausz\n",
      "Only Superstition, Coldplay\n",
      "Bedroom Suite, Joe Christmas\n",
      "A New Arrangement, Bright Eyes\n",
      "The Only Exception (Album Version), Paramore\n",
      "Sinisten tÃÂ¤htien alla, J. Karjalainen & Mustat Lasit\n",
      "Knee 2, Philip Glass\n",
      "SinceritÃÂ© Et Jalousie, Alliance Ethnik\n",
      "Her Voice Is Beyond Her Years, Mew\n",
      "If You Leave Me Now, Ive Mendes\n",
      "SinceritÃÂ© Et Jalousie, Alliance Ethnik\n",
      "Diamond Dave, the bird and the bee\n",
      "1999, Common / Sadat X\n",
      "King Of Pain (Live/Unplugged Version), Alanis Morissette\n",
      "Rebirthing (Album Version), Skillet\n",
      "Beauty and the Beast, James Galway;Julian Lee\n",
      "Dressed For Friend Requests (Album Version), Drop Dead_ Gorgeous\n",
      "You're The One, Dwight Yoakam\n",
      "Tuesday's Child, Trouble\n",
      "All The Right Moves, OneRepublic\n",
      "Wicked, Switchblade Symphony\n",
      "My Distressor 40Khz ReRub Mix, Sharooz\n",
      "Six Days At The Bottom Of The Ocean, Explosions In The Sky\n",
      "Little Bird, Emmylou Harris\n",
      "The Horizon Has Been Defeated, Jack Johnson\n",
      "Everything In Its Right Place, Radiohead\n",
      "Heretics, Andrew Bird\n",
      "Sabbra Cadabra, Metallica\n",
      "Catch You Baby (Steve Pitron & Max Sanna Radio Edit), Lonnie Gordon\n",
      "Shattered, Dropkick Murphys\n",
      "As The Rhyme Goes On, Eric B. & Rakim\n",
      "Settle For A Slowdown, Dierks Bentley\n",
      "Daniel Cowman, Regina Spektor\n",
      "Make You Sin, Angelspit\n",
      "Roc U, Young Gunz / Beanie Sigel\n",
      "Sexy Bitch, DJ Dizzy\n",
      "Sayonara-Nostalgia, Base Ball Bear\n",
      "In The Hands Of The Gods (Featuring Biz Markie), Morcheeba\n",
      "Don't Forget To Breathe, Bitter:Sweet\n",
      "Now You're Gone, Basshunter Feat. DJ Mental Theo\u0019s Bazzheadz\n",
      "Undo, BjÃÂ¶rk\n",
      "G4L, Rihanna\n",
      "Hello, Evanescence\n",
      "Tamale, Mr. Vegas\n",
      "Another Place, Mischa Daniels\n",
      "Straight To Hell, The Menzingers\n",
      "Cry Me A River, Justin Timberlake\n",
      "Un Camino Hasta Vos, Vilma Palma e Vampiros\n",
      "Sura (2008 Digital Remaster), CCCP - Fedeli Alla Linea\n",
      "Pursuit Of Happiness (nightmare), Kid Cudi / MGMT / Ratatat\n",
      "Forever, Drake / Kanye West / Lil Wayne / Eminem\n",
      "Homesick [Acoustic], A Day To Remember\n",
      "Dead And Gone [feat. Justin Timberlake] (Explicit Album Version), T.I.\n",
      "It'll Be a Long Time (Album Version), The Offspring\n",
      "Esta Es Para Hacerte FÃÂ©liz, Jorge Gonzalez\n",
      "Spin Spin Sugar, Sneaker Pimps\n",
      "This War Is Ours (The Guillotine II), Escape The Fate\n",
      "La Vida Es Un Ratico, Juanes\n",
      "Never Mind, The Replacements\n",
      "Possession, Sarah McLachlan\n",
      "Don't Start Me Talkin', Sonny Boy Williamson\n",
      "Back To Life (However Do You Want Me) (2003 Digital Remaster) (Feat. Caron Wheeler), Soul II Soul Featuring Caron Wheeler\n",
      "Dog Days Are Over (Radio Edit), Florence + The Machine\n",
      "Heresy  (LP Version), Pantera\n",
      "Remedy, Cold\n",
      "Frozen Angel, Norther\n",
      "The Pretender, Foo Fighters\n",
      "Besos De Ceniza, Timbiriche\n",
      "Rose, A Perfect Circle\n",
      "The Haunting, Anberlin\n",
      "Anything You Say (Unreleased Version), Deas Vail\n"
     ]
    }
   ],
   "source": [
    "for index, row in df.iterrows():\n",
    "    # get songid and artistid from song and artist tables\n",
    "    print(f'{row.song}, {row.artist}')\n",
    "    cur.execute(song_select, (row.song, row.artist, row.length))\n",
    "    results = cur.fetchone()\n",
    "    \n",
    "    if results:\n",
    "        songid, artistid = results\n",
    "    else:\n",
    "        songid, artistid = None, None\n",
    "\n",
    "    # insert songplay record\n",
    "    songplay_data = (pd.to_datetime(row.ts), row.userId, row.level, songid, artistid, row.sessionId, row.location, row.userAgent)\n",
    "    cur.execute(songplay_table_insert, songplay_data)\n",
    "    conn.commit()"
   ]
  },
  {
   "cell_type": "markdown",
   "metadata": {
    "editable": true
   },
   "source": [
    "Run `test.ipynb` to see if you've successfully added records to this table."
   ]
  },
  {
   "cell_type": "markdown",
   "metadata": {
    "editable": true
   },
   "source": [
    "# Close Connection to Sparkify Database"
   ]
  },
  {
   "cell_type": "code",
   "execution_count": null,
   "metadata": {
    "editable": true
   },
   "outputs": [],
   "source": [
    "conn.close()"
   ]
  },
  {
   "cell_type": "markdown",
   "metadata": {
    "editable": true
   },
   "source": [
    "# Implement `etl.py`\n",
    "Use what you've completed in this notebook to implement `etl.py`."
   ]
  },
  {
   "cell_type": "code",
   "execution_count": null,
   "metadata": {
    "editable": true
   },
   "outputs": [],
   "source": []
  }
 ],
 "metadata": {
  "kernelspec": {
   "display_name": "Python 3",
   "language": "python",
   "name": "python3"
  },
  "language_info": {
   "codemirror_mode": {
    "name": "ipython",
    "version": 3
   },
   "file_extension": ".py",
   "mimetype": "text/x-python",
   "name": "python",
   "nbconvert_exporter": "python",
   "pygments_lexer": "ipython3",
   "version": "3.6.3"
  }
 },
 "nbformat": 4,
 "nbformat_minor": 4
}
